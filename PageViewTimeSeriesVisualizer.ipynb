{
 "cells": [
  {
   "cell_type": "markdown",
   "id": "ultimate-abraham",
   "metadata": {},
   "source": [
    "# Page View Time Series Visualizer\n",
    "\n",
    "https://www.freecodecamp.org/learn/data-analysis-with-python/data-analysis-with-python-projects/page-view-time-series-visualizer\n",
    "\n",
    "### Seaborn Cheat Sheet\n",
    "https://s3.amazonaws.com/assets.datacamp.com/blog_assets/Python_Seaborn_Cheat_Sheet.pdf"
   ]
  },
  {
   "cell_type": "markdown",
   "id": "coupled-bacon",
   "metadata": {},
   "source": [
    "### Assignment\n",
    "\n",
    "For this project you will visualize time series data using a line chart, bar chart, and box plots. You will use Pandas, Matplotlib, and Seaborn to visualize a dataset containing the number of page views each day on the freeCodeCamp.org forum from 2016-05-09 to 2019-12-03. The data visualizations will help you understand the patterns in visits and identify yearly and monthly growth.\n",
    "\n",
    "Use the data to complete the following tasks:\n",
    "* Use Pandas to import the data from \"fcc-forum-pageviews.csv\". Set the index to the \"date\" column.\n",
    "* Clean the data by filtering out days when the page views were in the top 2.5% of the dataset or bottom 2.5% of the dataset.\n",
    "* Create a `draw_line_plot` function that uses Matplotlib to draw a line chart similar to \"examples/Figure_1.png\". The title should be \"Daily freeCodeCamp Forum Page Views 5/2016-12/2019\". The label on the x axis should be \"Date\" and the label on the y axis should be \"Page Views\".\n",
    "* Create a `draw_bar_plot` function that draws a bar chart similar to \"examples/Figure_2.png\". It should show average daily page views for each month grouped by year. The legend should show month labels and have a title of \"Months\". On the chart, the label on the x axis should be \"Years\" and the label on the y axis should be \"Average Page Views\".\n",
    "* Create a `draw_box_plot` function that uses Searborn to draw two adjacent box plots similar to \"examples/Figure_3.png\". These box plots should show how the values are distributed within a given year or month and how it compares over time. The title of the first chart should be \"Year-wise Box Plot (Trend)\" and the title of the second chart should be \"Month-wise Box Plot (Seasonality)\". Make sure the month labels on bottom start at \"Jan\" and the x and x axis are labeled correctly.\n",
    "\n",
    "For each chart, make sure to use a copy of the data frame."
   ]
  },
  {
   "cell_type": "code",
   "execution_count": 1,
   "id": "static-uzbekistan",
   "metadata": {},
   "outputs": [],
   "source": [
    "import pandas as pd\n",
    "import seaborn as sns\n",
    "import matplotlib.pyplot as plt\n",
    "import numpy as np\n",
    "from pandas.plotting import register_matplotlib_converters\n",
    "register_matplotlib_converters()\n",
    "%matplotlib inline"
   ]
  },
  {
   "cell_type": "code",
   "execution_count": 2,
   "id": "addressed-internet",
   "metadata": {},
   "outputs": [],
   "source": [
    "# Import data (Make sure to parse dates. Consider setting index column to 'date'.)\n",
    "# Great info about parsing dates: \n",
    "# https://towardsdatascience.com/4-tricks-you-should-know-to-parse-date-columns-with-pandas-read-csv-27355bb2ad0e\n",
    "\n",
    "df = pd.read_csv('data/fcc-forum-pageviews.csv', parse_dates=['date'])\n",
    "df = df.set_index('date')\n",
    "\n"
   ]
  },
  {
   "cell_type": "code",
   "execution_count": 3,
   "id": "adolescent-percentage",
   "metadata": {},
   "outputs": [
    {
     "data": {
      "text/plain": [
       "(1304, 1)"
      ]
     },
     "execution_count": 3,
     "metadata": {},
     "output_type": "execute_result"
    }
   ],
   "source": [
    "df.shape"
   ]
  },
  {
   "cell_type": "code",
   "execution_count": 4,
   "id": "corporate-paragraph",
   "metadata": {},
   "outputs": [
    {
     "data": {
      "text/html": [
       "<div>\n",
       "<style scoped>\n",
       "    .dataframe tbody tr th:only-of-type {\n",
       "        vertical-align: middle;\n",
       "    }\n",
       "\n",
       "    .dataframe tbody tr th {\n",
       "        vertical-align: top;\n",
       "    }\n",
       "\n",
       "    .dataframe thead th {\n",
       "        text-align: right;\n",
       "    }\n",
       "</style>\n",
       "<table border=\"1\" class=\"dataframe\">\n",
       "  <thead>\n",
       "    <tr style=\"text-align: right;\">\n",
       "      <th></th>\n",
       "      <th>value</th>\n",
       "    </tr>\n",
       "    <tr>\n",
       "      <th>date</th>\n",
       "      <th></th>\n",
       "    </tr>\n",
       "  </thead>\n",
       "  <tbody>\n",
       "    <tr>\n",
       "      <th>2016-05-09</th>\n",
       "      <td>1201</td>\n",
       "    </tr>\n",
       "    <tr>\n",
       "      <th>2016-05-10</th>\n",
       "      <td>2329</td>\n",
       "    </tr>\n",
       "    <tr>\n",
       "      <th>2016-05-11</th>\n",
       "      <td>1716</td>\n",
       "    </tr>\n",
       "    <tr>\n",
       "      <th>2016-05-12</th>\n",
       "      <td>10539</td>\n",
       "    </tr>\n",
       "    <tr>\n",
       "      <th>2016-05-13</th>\n",
       "      <td>6933</td>\n",
       "    </tr>\n",
       "  </tbody>\n",
       "</table>\n",
       "</div>"
      ],
      "text/plain": [
       "            value\n",
       "date             \n",
       "2016-05-09   1201\n",
       "2016-05-10   2329\n",
       "2016-05-11   1716\n",
       "2016-05-12  10539\n",
       "2016-05-13   6933"
      ]
     },
     "execution_count": 4,
     "metadata": {},
     "output_type": "execute_result"
    }
   ],
   "source": [
    "df.head()"
   ]
  },
  {
   "cell_type": "code",
   "execution_count": 5,
   "id": "federal-publicity",
   "metadata": {},
   "outputs": [],
   "source": [
    "# Clean data\n",
    "df = df[(df.value <= df.value.quantile(0.975)) & (df.value >= df.value.quantile(0.025))]"
   ]
  },
  {
   "cell_type": "code",
   "execution_count": 6,
   "id": "defined-induction",
   "metadata": {},
   "outputs": [
    {
     "data": {
      "text/plain": [
       "(1238, 1)"
      ]
     },
     "execution_count": 6,
     "metadata": {},
     "output_type": "execute_result"
    }
   ],
   "source": [
    "df.shape"
   ]
  },
  {
   "cell_type": "code",
   "execution_count": 7,
   "id": "piano-hungary",
   "metadata": {},
   "outputs": [
    {
     "data": {
      "image/png": "[encoded data removed]",
      "text/plain": [
       "<Figure size 432x288 with 1 Axes>"
      ]
     },
     "metadata": {
      "needs_background": "light"
     },
     "output_type": "display_data"
    }
   ],
   "source": [
    "# Draw line plot \n",
    "# Helpful page with info about ploting time series plots\n",
    "# https://datatofish.com/line-chart-python-matplotlib/\n",
    "# The difference between object oriented and pyplot interface\n",
    "# https://matplotlib.org/3.2.2/tutorials/introductory/usage.html#sphx-glr-tutorials-introductory-usage-py\n",
    "# OO-style\n",
    "fig, ax = plt.subplots() # Create a figure\n",
    "plt.rcParams[\"figure.figsize\"] = (25,8)\n",
    "ax.plot(df, color = 'red') \n",
    "ax.set_title('Daily freeCodeCamp Forum Page Views 5/2016-12/2019')\n",
    "ax.set_xlabel('Date')\n",
    "ax.set_ylabel('Page Views')\n",
    "\n",
    "fig.savefig('page_view_ts_line_plot.png')"
   ]
  },
  {
   "cell_type": "code",
   "execution_count": 8,
   "id": "weekly-stuart",
   "metadata": {},
   "outputs": [
    {
     "data": {
      "text/html": [
       "<div>\n",
       "<style scoped>\n",
       "    .dataframe tbody tr th:only-of-type {\n",
       "        vertical-align: middle;\n",
       "    }\n",
       "\n",
       "    .dataframe tbody tr th {\n",
       "        vertical-align: top;\n",
       "    }\n",
       "\n",
       "    .dataframe thead tr th {\n",
       "        text-align: left;\n",
       "    }\n",
       "\n",
       "    .dataframe thead tr:last-of-type th {\n",
       "        text-align: right;\n",
       "    }\n",
       "</style>\n",
       "<table border=\"1\" class=\"dataframe\">\n",
       "  <thead>\n",
       "    <tr>\n",
       "      <th></th>\n",
       "      <th colspan=\"12\" halign=\"left\">value</th>\n",
       "    </tr>\n",
       "    <tr>\n",
       "      <th>date</th>\n",
       "      <th>1</th>\n",
       "      <th>2</th>\n",
       "      <th>3</th>\n",
       "      <th>4</th>\n",
       "      <th>5</th>\n",
       "      <th>6</th>\n",
       "      <th>7</th>\n",
       "      <th>8</th>\n",
       "      <th>9</th>\n",
       "      <th>10</th>\n",
       "      <th>11</th>\n",
       "      <th>12</th>\n",
       "    </tr>\n",
       "    <tr>\n",
       "      <th>date</th>\n",
       "      <th></th>\n",
       "      <th></th>\n",
       "      <th></th>\n",
       "      <th></th>\n",
       "      <th></th>\n",
       "      <th></th>\n",
       "      <th></th>\n",
       "      <th></th>\n",
       "      <th></th>\n",
       "      <th></th>\n",
       "      <th></th>\n",
       "      <th></th>\n",
       "    </tr>\n",
       "  </thead>\n",
       "  <tbody>\n",
       "    <tr>\n",
       "      <th>2016</th>\n",
       "      <td>NaN</td>\n",
       "      <td>NaN</td>\n",
       "      <td>NaN</td>\n",
       "      <td>NaN</td>\n",
       "      <td>19432.400000</td>\n",
       "      <td>21875.105263</td>\n",
       "      <td>24109.678571</td>\n",
       "      <td>31049.193548</td>\n",
       "      <td>41476.866667</td>\n",
       "      <td>27398.322581</td>\n",
       "      <td>40448.633333</td>\n",
       "      <td>27832.419355</td>\n",
       "    </tr>\n",
       "    <tr>\n",
       "      <th>2017</th>\n",
       "      <td>32785.161290</td>\n",
       "      <td>31113.071429</td>\n",
       "      <td>29369.096774</td>\n",
       "      <td>30878.733333</td>\n",
       "      <td>34244.290323</td>\n",
       "      <td>43577.500000</td>\n",
       "      <td>65806.838710</td>\n",
       "      <td>47712.451613</td>\n",
       "      <td>47376.800000</td>\n",
       "      <td>47438.709677</td>\n",
       "      <td>57701.566667</td>\n",
       "      <td>48420.580645</td>\n",
       "    </tr>\n",
       "    <tr>\n",
       "      <th>2018</th>\n",
       "      <td>58580.096774</td>\n",
       "      <td>65679.000000</td>\n",
       "      <td>62693.774194</td>\n",
       "      <td>62350.833333</td>\n",
       "      <td>56562.870968</td>\n",
       "      <td>70117.000000</td>\n",
       "      <td>63591.064516</td>\n",
       "      <td>62831.612903</td>\n",
       "      <td>65941.733333</td>\n",
       "      <td>111378.142857</td>\n",
       "      <td>78688.333333</td>\n",
       "      <td>80047.483871</td>\n",
       "    </tr>\n",
       "    <tr>\n",
       "      <th>2019</th>\n",
       "      <td>102056.516129</td>\n",
       "      <td>105968.357143</td>\n",
       "      <td>91214.483871</td>\n",
       "      <td>89368.433333</td>\n",
       "      <td>91439.903226</td>\n",
       "      <td>90435.642857</td>\n",
       "      <td>97236.566667</td>\n",
       "      <td>102717.310345</td>\n",
       "      <td>97268.833333</td>\n",
       "      <td>122802.272727</td>\n",
       "      <td>143166.428571</td>\n",
       "      <td>150733.500000</td>\n",
       "    </tr>\n",
       "  </tbody>\n",
       "</table>\n",
       "</div>"
      ],
      "text/plain": [
       "              value                                                           \\\n",
       "date             1              2             3             4             5    \n",
       "date                                                                           \n",
       "2016            NaN            NaN           NaN           NaN  19432.400000   \n",
       "2017   32785.161290   31113.071429  29369.096774  30878.733333  34244.290323   \n",
       "2018   58580.096774   65679.000000  62693.774194  62350.833333  56562.870968   \n",
       "2019  102056.516129  105968.357143  91214.483871  89368.433333  91439.903226   \n",
       "\n",
       "                                                                              \\\n",
       "date            6             7              8             9              10   \n",
       "date                                                                           \n",
       "2016  21875.105263  24109.678571   31049.193548  41476.866667   27398.322581   \n",
       "2017  43577.500000  65806.838710   47712.451613  47376.800000   47438.709677   \n",
       "2018  70117.000000  63591.064516   62831.612903  65941.733333  111378.142857   \n",
       "2019  90435.642857  97236.566667  102717.310345  97268.833333  122802.272727   \n",
       "\n",
       "                                    \n",
       "date             11             12  \n",
       "date                                \n",
       "2016   40448.633333   27832.419355  \n",
       "2017   57701.566667   48420.580645  \n",
       "2018   78688.333333   80047.483871  \n",
       "2019  143166.428571  150733.500000  "
      ]
     },
     "execution_count": 8,
     "metadata": {},
     "output_type": "execute_result"
    }
   ],
   "source": [
    "# Create a draw_bar_plot function that draws a bar chart similar to \"examples/Figure_2.png\". \n",
    "# It should show average daily page views for each month grouped by year. \n",
    "# The legend should show month labels and have a title of \"Months\". \n",
    "# On the chart, the label on the x axis should be \"Years\" and the label on the y axis should be \"Average Page Views\".\n",
    "\n",
    "df_bar = df.groupby([(df.index.year), (df.index.month)]).mean()\n",
    "df_bar.unstack()"
   ]
  },
  {
   "cell_type": "code",
   "execution_count": 9,
   "id": "successful-price",
   "metadata": {},
   "outputs": [
    {
     "data": {
      "image/png": "[encoded data removed]",
      "text/plain": [
       "<Figure size 864x720 with 1 Axes>"
      ]
     },
     "metadata": {
      "needs_background": "light"
     },
     "output_type": "display_data"
    }
   ],
   "source": [
    " # Draw bar plot\n",
    "fig = df_bar.unstack().plot(kind='bar',figsize=(12, 10),width=0.6).figure\n",
    "plt.legend(labels=(\"January\", \"February\", \"March\", \"April\", \"May\", \"June\", \"July\", \"August\", \"September\", \"October\", \"November\", \"December\"))\n",
    "plt.xlabel(\"Years\")\n",
    "plt.ylabel(\"Average Page Views\")\n",
    "plt.title(\"Average Page Views per Year\")\n",
    "\n",
    "plt.savefig('page_view_ts_bar_plot.png')"
   ]
  },
  {
   "cell_type": "code",
   "execution_count": 10,
   "id": "wrapped-baltimore",
   "metadata": {},
   "outputs": [],
   "source": [
    "# Create a `draw_box_plot` function that uses Searborn to draw two adjacent box plots similar to \"examples/Figure_3.png\".\n",
    "# These box plots should show how the values are distributed within a given year or month and how it compares over time. \n",
    "# The title of the first chart should be \"Year-wise Box Plot (Trend)\" \n",
    "# and the title of the second chart should be \"Month-wise Box Plot (Seasonality)\".\n",
    "# Make sure the month labels on bottom start at \"Jan\" and the x and x axis are labeled correctly."
   ]
  },
  {
   "cell_type": "code",
   "execution_count": 11,
   "id": "grateful-corrections",
   "metadata": {},
   "outputs": [
    {
     "data": {
      "text/html": [
       "<div>\n",
       "<style scoped>\n",
       "    .dataframe tbody tr th:only-of-type {\n",
       "        vertical-align: middle;\n",
       "    }\n",
       "\n",
       "    .dataframe tbody tr th {\n",
       "        vertical-align: top;\n",
       "    }\n",
       "\n",
       "    .dataframe thead th {\n",
       "        text-align: right;\n",
       "    }\n",
       "</style>\n",
       "<table border=\"1\" class=\"dataframe\">\n",
       "  <thead>\n",
       "    <tr style=\"text-align: right;\">\n",
       "      <th></th>\n",
       "      <th>date</th>\n",
       "      <th>value</th>\n",
       "      <th>year</th>\n",
       "      <th>month</th>\n",
       "    </tr>\n",
       "  </thead>\n",
       "  <tbody>\n",
       "    <tr>\n",
       "      <th>0</th>\n",
       "      <td>2016-05-19</td>\n",
       "      <td>19736</td>\n",
       "      <td>2016</td>\n",
       "      <td>May</td>\n",
       "    </tr>\n",
       "    <tr>\n",
       "      <th>1</th>\n",
       "      <td>2016-05-26</td>\n",
       "      <td>18060</td>\n",
       "      <td>2016</td>\n",
       "      <td>May</td>\n",
       "    </tr>\n",
       "    <tr>\n",
       "      <th>2</th>\n",
       "      <td>2016-05-27</td>\n",
       "      <td>19997</td>\n",
       "      <td>2016</td>\n",
       "      <td>May</td>\n",
       "    </tr>\n",
       "    <tr>\n",
       "      <th>3</th>\n",
       "      <td>2016-05-28</td>\n",
       "      <td>19044</td>\n",
       "      <td>2016</td>\n",
       "      <td>May</td>\n",
       "    </tr>\n",
       "    <tr>\n",
       "      <th>4</th>\n",
       "      <td>2016-05-29</td>\n",
       "      <td>20325</td>\n",
       "      <td>2016</td>\n",
       "      <td>May</td>\n",
       "    </tr>\n",
       "    <tr>\n",
       "      <th>...</th>\n",
       "      <td>...</td>\n",
       "      <td>...</td>\n",
       "      <td>...</td>\n",
       "      <td>...</td>\n",
       "    </tr>\n",
       "    <tr>\n",
       "      <th>1233</th>\n",
       "      <td>2019-11-24</td>\n",
       "      <td>138875</td>\n",
       "      <td>2019</td>\n",
       "      <td>Nov</td>\n",
       "    </tr>\n",
       "    <tr>\n",
       "      <th>1234</th>\n",
       "      <td>2019-11-29</td>\n",
       "      <td>171584</td>\n",
       "      <td>2019</td>\n",
       "      <td>Nov</td>\n",
       "    </tr>\n",
       "    <tr>\n",
       "      <th>1235</th>\n",
       "      <td>2019-11-30</td>\n",
       "      <td>141161</td>\n",
       "      <td>2019</td>\n",
       "      <td>Nov</td>\n",
       "    </tr>\n",
       "    <tr>\n",
       "      <th>1236</th>\n",
       "      <td>2019-12-01</td>\n",
       "      <td>142918</td>\n",
       "      <td>2019</td>\n",
       "      <td>Dec</td>\n",
       "    </tr>\n",
       "    <tr>\n",
       "      <th>1237</th>\n",
       "      <td>2019-12-03</td>\n",
       "      <td>158549</td>\n",
       "      <td>2019</td>\n",
       "      <td>Dec</td>\n",
       "    </tr>\n",
       "  </tbody>\n",
       "</table>\n",
       "<p>1238 rows × 4 columns</p>\n",
       "</div>"
      ],
      "text/plain": [
       "           date   value  year month\n",
       "0    2016-05-19   19736  2016   May\n",
       "1    2016-05-26   18060  2016   May\n",
       "2    2016-05-27   19997  2016   May\n",
       "3    2016-05-28   19044  2016   May\n",
       "4    2016-05-29   20325  2016   May\n",
       "...         ...     ...   ...   ...\n",
       "1233 2019-11-24  138875  2019   Nov\n",
       "1234 2019-11-29  171584  2019   Nov\n",
       "1235 2019-11-30  141161  2019   Nov\n",
       "1236 2019-12-01  142918  2019   Dec\n",
       "1237 2019-12-03  158549  2019   Dec\n",
       "\n",
       "[1238 rows x 4 columns]"
      ]
     },
     "execution_count": 11,
     "metadata": {},
     "output_type": "execute_result"
    }
   ],
   "source": [
    "# Prepare data for box plots (this part is done!)\n",
    "df_box = df.copy()\n",
    "df_box.reset_index(inplace = True)\n",
    "df_box['year'] = [d.year for d in df_box.date]\n",
    "df_box['month'] = [d.strftime('%b') for d in df_box.date]\n",
    "df_box\n",
    "\n"
   ]
  },
  {
   "cell_type": "code",
   "execution_count": 12,
   "id": "favorite-production",
   "metadata": {},
   "outputs": [
    {
     "data": {
      "image/png": "[encoded data removed]",
      "text/plain": [
       "<Figure size 1440x720 with 2 Axes>"
      ]
     },
     "metadata": {
      "needs_background": "light"
     },
     "output_type": "display_data"
    }
   ],
   "source": [
    "# # Clean data\n",
    "# df_box = df_box[(df_box.value <= df_box.value.quantile(0.975)) &\n",
    "#                (df_box.value >= df_box.value.quantile(0.025))]\n",
    "\n",
    "# Draw box plots (using Seaborn)\n",
    "fig, (ax1, ax2) = plt.subplots(1,2)\n",
    "fig.set_figwidth(20)\n",
    "fig.set_figheight(10)\n",
    "\n",
    "ax1 = sns.boxplot(data = df_box, x = 'year', y = 'value', ax = ax1)\n",
    "ax1.set_xlabel(\"Year\")\n",
    "ax1.set_ylabel(\"Page Views\")\n",
    "ax1.set_title(\"Year-wise Box Plot (Trend)\")\n",
    "ax1.set(ylim=(0, 200000))\n",
    "ax1.set(yticks=[0, 20000, 40000, 60000, 80000, 100000, 120000, 140000, 160000, 180000, 200000])\n",
    "\n",
    "\n",
    "ax2 = sns.boxplot( x = df_box[\"month\"], y = df_box['value'], ax = ax2, \n",
    "                  order=['Jan', 'Feb', 'Mar', 'Apr', 'May', 'Jun', 'Jul', 'Aug', 'Sep', 'Oct', 'Nov', 'Dec'])\n",
    "ax2.set_xlabel(\"Month\")\n",
    "ax2.set_ylabel(\"Page Views\")\n",
    "ax2.set_title(\"Month-wise Box Plot (Seasonality)\")\n",
    "ax2.set(ylim=(0, 200000))\n",
    "fig.savefig('page_view_ts_box_plot.png')"
   ]
  }
 ],
 "metadata": {
  "kernelspec": {
   "display_name": "Python 3",
   "language": "python",
   "name": "python3"
  },
  "language_info": {
   "codemirror_mode": {
    "name": "ipython",
    "version": 3
   },
   "file_extension": ".py",
   "mimetype": "text/x-python",
   "name": "python",
   "nbconvert_exporter": "python",
   "pygments_lexer": "ipython3",
   "version": "3.6.12"
  }
 },
 "nbformat": 4,
 "nbformat_minor": 5
}
