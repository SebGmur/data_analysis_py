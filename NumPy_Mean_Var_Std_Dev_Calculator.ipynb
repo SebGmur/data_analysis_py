{
 "cells": [
  {
   "cell_type": "markdown",
   "id": "optical-interest",
   "metadata": {},
   "source": [
    "#### Source: <br>\n",
    "https://www.freecodecamp.org/learn/data-analysis-with-python/data-analysis-with-python-projects/mean-variance-standard-deviation-calculator"
   ]
  },
  {
   "cell_type": "markdown",
   "id": "round-chassis",
   "metadata": {},
   "source": [
    "# Mean-Variance-Standard Deviation Calculator\n",
    "\n",
    "### Assignment\n",
    "\n",
    "Create a function named `calculate()` in `mean_var_std.py` that uses Numpy to output the mean, variance, standard deviation, max, min, and sum of the rows, columns, and elements in a 3 x 3 matrix. \n",
    "\n",
    "The input of the function should be a list containing 9 digits. The function should convert the list into a 3 x 3 Numpy array, and then return a dictionary containing the mean, variance, standard deviation, max, min, and sum along both axes and for the flattened matrix. \n",
    "\n",
    "The returned dictionary should follow this format:\n",
    "```py\n",
    "{\n",
    "  'mean': [axis1, axis2, flattened],\n",
    "  'variance': [axis1, axis2, flattened],\n",
    "  'standard deviation': [axis1, axis2, flattened],\n",
    "  'max': [axis1, axis2, flattened],\n",
    "  'min': [axis1, axis2, flattened],\n",
    "  'sum': [axis1, axis2, flattened]\n",
    "}\n",
    "```\n",
    "\n",
    "If a list containing less than 9 elements is passed into the function, it should raise a `ValueError` exception with the message: \"List must contain nine numbers.\" The values in the returned dictionary should be lists and not Numpy arrays.\n",
    "\n",
    "For example, `calculate([0,1,2,3,4,5,6,7,8])` should return:\n",
    "```py\n",
    "{\n",
    "  'mean': [[3.0, 4.0, 5.0], [1.0, 4.0, 7.0], 4.0], \n",
    "  'variance': [[6.0, 6.0, 6.0], [0.6666666666666666, 0.6666666666666666, 0.6666666666666666], 6.666666666666667], \n",
    "  'standard deviation': [[2.449489742783178, 2.449489742783178, 2.449489742783178], [0.816496580927726, 0.816496580927726, 0.816496580927726], 2.581988897471611],\n",
    "  'max': [[6, 7, 8], [2, 5, 8], 8],\n",
    "  'min': [[0, 1, 2], [0, 3, 6], 0],\n",
    "  'sum': [[9, 12, 15], [3, 12, 21], 36]\n",
    "}\n",
    "```"
   ]
  },
  {
   "cell_type": "code",
   "execution_count": 1,
   "id": "activated-september",
   "metadata": {},
   "outputs": [],
   "source": [
    "import numpy as np"
   ]
  },
  {
   "cell_type": "code",
   "execution_count": 2,
   "id": "refined-stream",
   "metadata": {},
   "outputs": [],
   "source": [
    "l = [0,1,2,3,4,5,6,7,8] # input\n",
    "# l = [2,6,2,8,4,0,1,]  # input with not enough values that should prompt ValueError message"
   ]
  },
  {
   "cell_type": "code",
   "execution_count": 3,
   "id": "radical-bidding",
   "metadata": {
    "scrolled": true
   },
   "outputs": [],
   "source": [
    "def calculate(list):\n",
    "    if len(list) <9:\n",
    "        raise ValueError('List must contain nine numbers.')\n",
    "    else:\n",
    "        \n",
    "        # initializing dictionary:\n",
    "        calculations = {'mean' : '', 'variance' : '', 'standard deviation' : '', 'max' : '', 'min' : '', 'sum' : ''}  \n",
    "    \n",
    "        # Values for flattened matrix\n",
    "        storage = np.array([list[0:3], list[3:6], list[6:9]])\n",
    "        storage_min = storage.min()\n",
    "        storage_max = storage.max()\n",
    "        storage_sum = storage.sum()\n",
    "        storage_mean = storage.mean()\n",
    "        storage_var = storage.var()\n",
    "        storage_std = storage.std()\n",
    "    \n",
    "        # values across the rows\n",
    "        storage_min_row = storage.min(0)\n",
    "        storage_max_row = storage.max(0)\n",
    "        storage_sum_row = storage.sum(0)\n",
    "        storage_mean_row = storage.mean(0)\n",
    "        storage_var_row = storage.var(0)\n",
    "        storage_std_row = storage.std(0)\n",
    "    \n",
    "         # values across the column\n",
    "        storage_min_col = storage.min(1)\n",
    "        storage_max_col = storage.max(1)\n",
    "        storage_sum_col = storage.sum(1)\n",
    "        storage_mean_col = storage.mean(1)\n",
    "        storage_var_col = storage.var(1)\n",
    "        storage_std_col = storage.std(1)\n",
    "    \n",
    "        # update dictionary\n",
    "        # .tolist() converts numpy array to python list\n",
    "        calculations.update({\"min\": [storage_min_row.tolist(), storage_min_col.tolist(), storage_min]})\n",
    "        calculations.update({\"max\": [storage_max_row.tolist(), storage_max_col.tolist(), storage_max]})\n",
    "        calculations.update({\"sum\": [storage_sum_row.tolist(), storage_sum_col.tolist(), storage_sum]})\n",
    "        calculations.update({\"mean\": [storage_mean_row.tolist(), storage_mean_col.tolist(), storage_mean]})\n",
    "        calculations.update({\"variance\": [storage_var_row.tolist(), storage_var_col.tolist(), storage_var]})\n",
    "        calculations.update({\"standard deviation\": [storage_std_row.tolist(), storage_std_col.tolist(), storage_std]})\n",
    "\n",
    "    return calculations\n",
    "\n"
   ]
  },
  {
   "cell_type": "code",
   "execution_count": 4,
   "id": "aging-stamp",
   "metadata": {},
   "outputs": [
    {
     "data": {
      "text/plain": [
       "{'mean': [[3.0, 4.0, 5.0], [1.0, 4.0, 7.0], 4.0],\n",
       " 'variance': [[6.0, 6.0, 6.0],\n",
       "  [0.6666666666666666, 0.6666666666666666, 0.6666666666666666],\n",
       "  6.666666666666667],\n",
       " 'standard deviation': [[2.449489742783178,\n",
       "   2.449489742783178,\n",
       "   2.449489742783178],\n",
       "  [0.816496580927726, 0.816496580927726, 0.816496580927726],\n",
       "  2.581988897471611],\n",
       " 'max': [[6, 7, 8], [2, 5, 8], 8],\n",
       " 'min': [[0, 1, 2], [0, 3, 6], 0],\n",
       " 'sum': [[9, 12, 15], [3, 12, 21], 36]}"
      ]
     },
     "execution_count": 4,
     "metadata": {},
     "output_type": "execute_result"
    }
   ],
   "source": [
    "calculate(l)"
   ]
  }
 ],
 "metadata": {
  "kernelspec": {
   "display_name": "Python 3",
   "language": "python",
   "name": "python3"
  },
  "language_info": {
   "codemirror_mode": {
    "name": "ipython",
    "version": 3
   },
   "file_extension": ".py",
   "mimetype": "text/x-python",
   "name": "python",
   "nbconvert_exporter": "python",
   "pygments_lexer": "ipython3",
   "version": "3.6.12"
  }
 },
 "nbformat": 4,
 "nbformat_minor": 5
}
